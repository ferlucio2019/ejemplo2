{
 "cells": [
  {
   "cell_type": "code",
   "execution_count": 1,
   "metadata": {},
   "outputs": [
    {
     "name": "stdout",
     "output_type": "stream",
     "text": [
      "Requirement already satisfied: pandas_datareader in /usr/local/lib/python3.6/site-packages (0.8.1)\n",
      "Requirement already satisfied: lxml in /usr/local/lib/python3.6/site-packages (from pandas_datareader) (4.3.4)\n",
      "Requirement already satisfied: pandas>=0.21 in /usr/local/lib/python3.6/site-packages (from pandas_datareader) (0.23.0)\n",
      "Requirement already satisfied: requests>=2.3.0 in /usr/local/lib/python3.6/site-packages (from pandas_datareader) (2.22.0)\n",
      "Requirement already satisfied: numpy>=1.9.0 in /usr/local/lib/python3.6/site-packages (from pandas>=0.21->pandas_datareader) (1.14.5)\n",
      "Requirement already satisfied: pytz>=2011k in /usr/local/lib/python3.6/site-packages (from pandas>=0.21->pandas_datareader) (2019.1)\n",
      "Requirement already satisfied: python-dateutil>=2.5.0 in /usr/local/lib/python3.6/site-packages (from pandas>=0.21->pandas_datareader) (2.8.0)\n",
      "Requirement already satisfied: certifi>=2017.4.17 in /usr/local/lib/python3.6/site-packages (from requests>=2.3.0->pandas_datareader) (2019.6.16)\n",
      "Requirement already satisfied: idna<2.9,>=2.5 in /usr/local/lib/python3.6/site-packages (from requests>=2.3.0->pandas_datareader) (2.8)\n",
      "Requirement already satisfied: urllib3!=1.25.0,!=1.25.1,<1.26,>=1.21.1 in /usr/local/lib/python3.6/site-packages (from requests>=2.3.0->pandas_datareader) (1.25.3)\n",
      "Requirement already satisfied: chardet<3.1.0,>=3.0.2 in /usr/local/lib/python3.6/site-packages (from requests>=2.3.0->pandas_datareader) (3.0.4)\n",
      "Requirement already satisfied: six>=1.5 in /usr/local/lib/python3.6/site-packages (from python-dateutil>=2.5.0->pandas>=0.21->pandas_datareader) (1.12.0)\n",
      "\u001b[33mWARNING: You are using pip version 19.1.1, however version 19.3.1 is available.\n",
      "You should consider upgrading via the 'pip install --upgrade pip' command.\u001b[0m\n",
      "Requirement already satisfied: ta in /usr/local/lib/python3.6/site-packages (0.4.7)\n",
      "Requirement already satisfied: pandas in /usr/local/lib/python3.6/site-packages (from ta) (0.23.0)\n",
      "Requirement already satisfied: numpy in /usr/local/lib/python3.6/site-packages (from ta) (1.14.5)\n",
      "Requirement already satisfied: scikit-learn in /usr/local/lib/python3.6/site-packages (from ta) (0.21.2)\n",
      "Requirement already satisfied: python-dateutil>=2.5.0 in /usr/local/lib/python3.6/site-packages (from pandas->ta) (2.8.0)\n",
      "Requirement already satisfied: pytz>=2011k in /usr/local/lib/python3.6/site-packages (from pandas->ta) (2019.1)\n",
      "Requirement already satisfied: scipy>=0.17.0 in /usr/local/lib/python3.6/site-packages (from scikit-learn->ta) (1.1.0)\n",
      "Requirement already satisfied: joblib>=0.11 in /usr/local/lib/python3.6/site-packages (from scikit-learn->ta) (0.13.2)\n",
      "Requirement already satisfied: six>=1.5 in /usr/local/lib/python3.6/site-packages (from python-dateutil>=2.5.0->pandas->ta) (1.12.0)\n",
      "\u001b[33mWARNING: You are using pip version 19.1.1, however version 19.3.1 is available.\n",
      "You should consider upgrading via the 'pip install --upgrade pip' command.\u001b[0m\n"
     ]
    }
   ],
   "source": [
    "    ###################################################################################################\n",
    "    ####\n",
    "    #este ejemplo esta basado en\n",
    "    #https://blog.quantinsti.com/machine-learning-classification-strategy-python/?utm_source=quora&utm_medium=answer_is\n",
    "    ####\n",
    "    ###################################################################################################\n",
    "    #Carga las librerías\n",
    "    !pip install pandas_datareader\n",
    "    !pip install ta\n",
    "    # Machine learning classification libraries\n",
    "    from sklearn.svm import SVC\n",
    "    from sklearn.metrics import scorer\n",
    "    from sklearn.metrics import accuracy_score\n",
    "     \n",
    "    # For data manipulation\n",
    "    import pandas as pd\n",
    "    import numpy as np\n",
    "    from ta import * \n",
    "     \n",
    "    # To plot\n",
    "    import matplotlib.pyplot as plt\n",
    "    import seaborn\n",
    "     \n",
    "    # To fetch data\n",
    "    from pandas_datareader import data as pdr"
   ]
  },
  {
   "cell_type": "code",
   "execution_count": 42,
   "metadata": {},
   "outputs": [
    {
     "data": {
      "image/png": "[encoded data removed]",
      "text/plain": [
       "<Figure size 720x360 with 1 Axes>"
      ]
     },
     "metadata": {
      "needs_background": "light"
     },
     "output_type": "display_data"
    }
   ],
   "source": [
    "#importa los datos de Yahoo y los plotea\n",
    "\n",
    "    Df = pdr.get_data_yahoo('SPY', start=\"2012-01-01\") \n",
    "#    Df = pdr.get_data_yahoo('SPY', start=\"2012-01-01\", end=\"2017-10-01\") \n",
    "    \n",
    "    Df= Df.dropna()\n",
    "    Df.Close.plot(figsize=(10,5))\n",
    "    plt.ylabel(\"S&P500 Price\")\n",
    "    plt.show()"
   ]
  },
  {
   "cell_type": "code",
   "execution_count": 43,
   "metadata": {},
   "outputs": [
    {
     "name": "stdout",
     "output_type": "stream",
     "text": [
      "Index(['High', 'Low', 'Open', 'Close', 'Volume', 'Adj Close'], dtype='object')\n",
      "Index(['high', 'low', 'open', 'volume', 'close'], dtype='object')\n",
      "<class 'pandas.core.frame.DataFrame'>\n",
      "DatetimeIndex: 1965 entries, 2012-01-03 to 2019-10-23\n",
      "Data columns (total 5 columns):\n",
      "high      1965 non-null float64\n",
      "low       1965 non-null float64\n",
      "open      1965 non-null float64\n",
      "volume    1965 non-null float64\n",
      "close     1965 non-null float64\n",
      "dtypes: float64(5)\n",
      "memory usage: 92.1 KB\n",
      "None\n",
      "high      0\n",
      "low       0\n",
      "open      0\n",
      "volume    0\n",
      "close     0\n",
      "dtype: int64\n",
      "                  high         low        open      volume       close\n",
      "Date                                                                  \n",
      "2019-10-17  300.239990  298.519989  299.679993  45736600.0  299.279999\n",
      "2019-10-18  299.399994  297.029999  298.690002  64304000.0  297.970001\n",
      "2019-10-21  300.209991  298.940002  299.420013  39048600.0  299.989990\n",
      "2019-10-22  300.899994  298.910004  300.579987  48594700.0  299.010010\n",
      "2019-10-23  299.760010  298.500000  298.730011  13868787.0  299.429993\n"
     ]
    },
    {
     "ename": "TypeError",
     "evalue": "shift() got an unexpected keyword argument 'fill_value'",
     "output_type": "error",
     "traceback": [
      "\u001b[0;31m---------------------------------------------------------------------------\u001b[0m",
      "\u001b[0;31mTypeError\u001b[0m                                 Traceback (most recent call last)",
      "\u001b[0;32m<ipython-input-43-8c65ce68e3c3>\u001b[0m in \u001b[0;36m<module>\u001b[0;34m\u001b[0m\n\u001b[1;32m     15\u001b[0m \u001b[0;34m\u001b[0m\u001b[0m\n\u001b[1;32m     16\u001b[0m \u001b[0;31m# Add all ta features filling nans values\u001b[0m\u001b[0;34m\u001b[0m\u001b[0;34m\u001b[0m\u001b[0;34m\u001b[0m\u001b[0m\n\u001b[0;32m---> 17\u001b[0;31m \u001b[0mDf\u001b[0m \u001b[0;34m=\u001b[0m \u001b[0madd_all_ta_features\u001b[0m\u001b[0;34m(\u001b[0m\u001b[0mDf\u001b[0m\u001b[0;34m,\u001b[0m \u001b[0;34m\"open\"\u001b[0m\u001b[0;34m,\u001b[0m \u001b[0;34m\"high\"\u001b[0m\u001b[0;34m,\u001b[0m \u001b[0;34m\"low\"\u001b[0m\u001b[0;34m,\u001b[0m \u001b[0;34m\"close\"\u001b[0m\u001b[0;34m,\u001b[0m \u001b[0;34m\"volume\"\u001b[0m\u001b[0;34m,\u001b[0m\u001b[0mfillna\u001b[0m\u001b[0;34m=\u001b[0m\u001b[0;32mTrue\u001b[0m\u001b[0;34m)\u001b[0m\u001b[0;34m\u001b[0m\u001b[0;34m\u001b[0m\u001b[0m\n\u001b[0m",
      "\u001b[0;32m/usr/local/lib/python3.6/site-packages/ta/wrapper.py\u001b[0m in \u001b[0;36madd_all_ta_features\u001b[0;34m(df, open, high, low, close, volume, fillna, colprefix)\u001b[0m\n\u001b[1;32m    343\u001b[0m     \"\"\"\n\u001b[1;32m    344\u001b[0m     df = add_volume_ta(df, high, low, close, volume, fillna=fillna,\n\u001b[0;32m--> 345\u001b[0;31m                        colprefix=colprefix)\n\u001b[0m\u001b[1;32m    346\u001b[0m     df = add_volatility_ta(df, high, low, close, fillna=fillna,\n\u001b[1;32m    347\u001b[0m                            colprefix=colprefix)\n",
      "\u001b[0;32m/usr/local/lib/python3.6/site-packages/ta/wrapper.py\u001b[0m in \u001b[0;36madd_volume_ta\u001b[0;34m(df, high, low, close, volume, fillna, colprefix)\u001b[0m\n\u001b[1;32m     28\u001b[0m                                                           \u001b[0mdf\u001b[0m\u001b[0;34m[\u001b[0m\u001b[0mclose\u001b[0m\u001b[0;34m]\u001b[0m\u001b[0;34m,\u001b[0m\u001b[0;34m\u001b[0m\u001b[0;34m\u001b[0m\u001b[0m\n\u001b[1;32m     29\u001b[0m                                                           \u001b[0mdf\u001b[0m\u001b[0;34m[\u001b[0m\u001b[0mvolume\u001b[0m\u001b[0;34m]\u001b[0m\u001b[0;34m,\u001b[0m\u001b[0;34m\u001b[0m\u001b[0;34m\u001b[0m\u001b[0m\n\u001b[0;32m---> 30\u001b[0;31m                                                           fillna=fillna)\n\u001b[0m\u001b[1;32m     31\u001b[0m     df['{}volume_obv'.format(colprefix)] = on_balance_volume(df[close],\n\u001b[1;32m     32\u001b[0m                                                              \u001b[0mdf\u001b[0m\u001b[0;34m[\u001b[0m\u001b[0mvolume\u001b[0m\u001b[0;34m]\u001b[0m\u001b[0;34m,\u001b[0m\u001b[0;34m\u001b[0m\u001b[0;34m\u001b[0m\u001b[0m\n",
      "\u001b[0;32m/usr/local/lib/python3.6/site-packages/ta/volume.py\u001b[0m in \u001b[0;36macc_dist_index\u001b[0;34m(high, low, close, volume, fillna)\u001b[0m\n\u001b[1;32m     32\u001b[0m     \u001b[0mclv\u001b[0m \u001b[0;34m=\u001b[0m \u001b[0mclv\u001b[0m\u001b[0;34m.\u001b[0m\u001b[0mfillna\u001b[0m\u001b[0;34m(\u001b[0m\u001b[0;36m0.0\u001b[0m\u001b[0;34m)\u001b[0m  \u001b[0;31m# float division by zero\u001b[0m\u001b[0;34m\u001b[0m\u001b[0;34m\u001b[0m\u001b[0m\n\u001b[1;32m     33\u001b[0m     \u001b[0mad\u001b[0m \u001b[0;34m=\u001b[0m \u001b[0mclv\u001b[0m \u001b[0;34m*\u001b[0m \u001b[0mvolume\u001b[0m\u001b[0;34m\u001b[0m\u001b[0;34m\u001b[0m\u001b[0m\n\u001b[0;32m---> 34\u001b[0;31m     \u001b[0mad\u001b[0m \u001b[0;34m=\u001b[0m \u001b[0mad\u001b[0m \u001b[0;34m+\u001b[0m \u001b[0mad\u001b[0m\u001b[0;34m.\u001b[0m\u001b[0mshift\u001b[0m\u001b[0;34m(\u001b[0m\u001b[0;36m1\u001b[0m\u001b[0;34m,\u001b[0m \u001b[0mfill_value\u001b[0m\u001b[0;34m=\u001b[0m\u001b[0mad\u001b[0m\u001b[0;34m.\u001b[0m\u001b[0mmean\u001b[0m\u001b[0;34m(\u001b[0m\u001b[0;34m)\u001b[0m\u001b[0;34m)\u001b[0m\u001b[0;34m\u001b[0m\u001b[0;34m\u001b[0m\u001b[0m\n\u001b[0m\u001b[1;32m     35\u001b[0m     \u001b[0;32mif\u001b[0m \u001b[0mfillna\u001b[0m\u001b[0;34m:\u001b[0m\u001b[0;34m\u001b[0m\u001b[0;34m\u001b[0m\u001b[0m\n\u001b[1;32m     36\u001b[0m         \u001b[0mad\u001b[0m \u001b[0;34m=\u001b[0m \u001b[0mad\u001b[0m\u001b[0;34m.\u001b[0m\u001b[0mreplace\u001b[0m\u001b[0;34m(\u001b[0m\u001b[0;34m[\u001b[0m\u001b[0mnp\u001b[0m\u001b[0;34m.\u001b[0m\u001b[0minf\u001b[0m\u001b[0;34m,\u001b[0m \u001b[0;34m-\u001b[0m\u001b[0mnp\u001b[0m\u001b[0;34m.\u001b[0m\u001b[0minf\u001b[0m\u001b[0;34m]\u001b[0m\u001b[0;34m,\u001b[0m \u001b[0mnp\u001b[0m\u001b[0;34m.\u001b[0m\u001b[0mnan\u001b[0m\u001b[0;34m)\u001b[0m\u001b[0;34m.\u001b[0m\u001b[0mfillna\u001b[0m\u001b[0;34m(\u001b[0m\u001b[0;36m0\u001b[0m\u001b[0;34m)\u001b[0m\u001b[0;34m\u001b[0m\u001b[0;34m\u001b[0m\u001b[0m\n",
      "\u001b[0;31mTypeError\u001b[0m: shift() got an unexpected keyword argument 'fill_value'"
     ]
    }
   ],
   "source": [
    "#df.colums\n",
    "print(Df.columns)\n",
    "Df = utils.dropna(Df)\n",
    "#Modificamos columnas de acciones\n",
    "for item in ['Open', 'High', 'Low']:\n",
    "    Df[item] = Df[item] * Df['Adj Close'] / Df['Close']\n",
    "Df.rename(columns={'Open': 'open', 'High': 'high', 'Low': 'low','Adj Close': 'close', 'Volume': 'volume'}, inplace=True)\n",
    "Df.drop(['Close'],axis=1, inplace=True)\n",
    "    \n",
    "print(Df.columns)\n",
    "print(Df.info())\n",
    "print(Df.isna().sum())\n",
    "print(Df.tail())\n",
    "#Df=Df.dropna(inplace=True)\n",
    "\n",
    "# Add all ta features filling nans values\n",
    "Df = add_all_ta_features(Df, \"open\", \"high\", \"low\", \"close\", \"volume\",fillna=True)\n"
   ]
  },
  {
   "cell_type": "code",
   "execution_count": 35,
   "metadata": {},
   "outputs": [
    {
     "data": {
      "text/html": [
       "<div>\n",
       "<style scoped>\n",
       "    .dataframe tbody tr th:only-of-type {\n",
       "        vertical-align: middle;\n",
       "    }\n",
       "\n",
       "    .dataframe tbody tr th {\n",
       "        vertical-align: top;\n",
       "    }\n",
       "\n",
       "    .dataframe thead th {\n",
       "        text-align: right;\n",
       "    }\n",
       "</style>\n",
       "<table border=\"1\" class=\"dataframe\">\n",
       "  <thead>\n",
       "    <tr style=\"text-align: right;\">\n",
       "      <th></th>\n",
       "      <th>0</th>\n",
       "    </tr>\n",
       "  </thead>\n",
       "  <tbody>\n",
       "    <tr>\n",
       "      <th>1960</th>\n",
       "      <td>1</td>\n",
       "    </tr>\n",
       "    <tr>\n",
       "      <th>1961</th>\n",
       "      <td>-1</td>\n",
       "    </tr>\n",
       "    <tr>\n",
       "      <th>1962</th>\n",
       "      <td>1</td>\n",
       "    </tr>\n",
       "    <tr>\n",
       "      <th>1963</th>\n",
       "      <td>-1</td>\n",
       "    </tr>\n",
       "    <tr>\n",
       "      <th>1964</th>\n",
       "      <td>-1</td>\n",
       "    </tr>\n",
       "  </tbody>\n",
       "</table>\n",
       "</div>"
      ],
      "text/plain": [
       "      0\n",
       "1960  1\n",
       "1961 -1\n",
       "1962  1\n",
       "1963 -1\n",
       "1964 -1"
      ]
     },
     "execution_count": 35,
     "metadata": {},
     "output_type": "execute_result"
    }
   ],
   "source": [
    "# Variable a estimar\n",
    "Df['Return3'] = np.log(Df.close.shift(-2) / Df.close.shift(-1))\n",
    "y = pd.DataFrame(np.where(Df['Return3']> 0,1,-1))\n",
    "#y=y.shift(-1)\n",
    "y=y.fillna(0)\n",
    "y.tail()\n"
   ]
  },
  {
   "cell_type": "code",
   "execution_count": 25,
   "metadata": {},
   "outputs": [
    {
     "data": {
      "text/html": [
       "<div>\n",
       "<style scoped>\n",
       "    .dataframe tbody tr th:only-of-type {\n",
       "        vertical-align: middle;\n",
       "    }\n",
       "\n",
       "    .dataframe tbody tr th {\n",
       "        vertical-align: top;\n",
       "    }\n",
       "\n",
       "    .dataframe thead th {\n",
       "        text-align: right;\n",
       "    }\n",
       "</style>\n",
       "<table border=\"1\" class=\"dataframe\">\n",
       "  <thead>\n",
       "    <tr style=\"text-align: right;\">\n",
       "      <th></th>\n",
       "      <th>Open-Close</th>\n",
       "      <th>High-Low</th>\n",
       "    </tr>\n",
       "    <tr>\n",
       "      <th>Date</th>\n",
       "      <th></th>\n",
       "      <th></th>\n",
       "    </tr>\n",
       "  </thead>\n",
       "  <tbody>\n",
       "    <tr>\n",
       "      <th>2019-10-17</th>\n",
       "      <td>0.399994</td>\n",
       "      <td>1.720001</td>\n",
       "    </tr>\n",
       "    <tr>\n",
       "      <th>2019-10-18</th>\n",
       "      <td>0.720001</td>\n",
       "      <td>2.369995</td>\n",
       "    </tr>\n",
       "    <tr>\n",
       "      <th>2019-10-21</th>\n",
       "      <td>-0.569977</td>\n",
       "      <td>1.269989</td>\n",
       "    </tr>\n",
       "    <tr>\n",
       "      <th>2019-10-22</th>\n",
       "      <td>1.569977</td>\n",
       "      <td>1.989990</td>\n",
       "    </tr>\n",
       "    <tr>\n",
       "      <th>2019-10-23</th>\n",
       "      <td>-0.639984</td>\n",
       "      <td>1.260010</td>\n",
       "    </tr>\n",
       "  </tbody>\n",
       "</table>\n",
       "</div>"
      ],
      "text/plain": [
       "            Open-Close  High-Low\n",
       "Date                            \n",
       "2019-10-17    0.399994  1.720001\n",
       "2019-10-18    0.720001  2.369995\n",
       "2019-10-21   -0.569977  1.269989\n",
       "2019-10-22    1.569977  1.989990\n",
       "2019-10-23   -0.639984  1.260010"
      ]
     },
     "execution_count": 25,
     "metadata": {},
     "output_type": "execute_result"
    }
   ],
   "source": [
    "# Creaación de Features\n",
    "    Df['Open-Close'] = Df.open - Df.close\n",
    "    Df['High-Low'] = Df.high - Df.low\n",
    "     \n",
    "    X=Df[['Open-Close','High-Low']]\n",
    "    ''' \tOpen-Close \tHigh-Low\n",
    "Date \t\t\n",
    "2017-09-25 \t0.220001 \t1.470001\n",
    "2017-09-26 \t0.339996 \t0.889999\n",
    "2017-09-27 \t-0.169998 \t1.620010\n",
    "2017-09-28 \t-0.620010 \t0.809998\n",
    "2017-09-29 \t-0.889999 \t1.190002'''\n",
    "    X.tail()\n",
    "    "
   ]
  },
  {
   "cell_type": "code",
   "execution_count": 26,
   "metadata": {},
   "outputs": [
    {
     "data": {
      "text/html": [
       "<div>\n",
       "<style scoped>\n",
       "    .dataframe tbody tr th:only-of-type {\n",
       "        vertical-align: middle;\n",
       "    }\n",
       "\n",
       "    .dataframe tbody tr th {\n",
       "        vertical-align: top;\n",
       "    }\n",
       "\n",
       "    .dataframe thead th {\n",
       "        text-align: right;\n",
       "    }\n",
       "</style>\n",
       "<table border=\"1\" class=\"dataframe\">\n",
       "  <thead>\n",
       "    <tr style=\"text-align: right;\">\n",
       "      <th></th>\n",
       "      <th>Open-Close</th>\n",
       "      <th>High-Low</th>\n",
       "    </tr>\n",
       "  </thead>\n",
       "  <tbody>\n",
       "    <tr>\n",
       "      <th>Open-Close</th>\n",
       "      <td>1.000000</td>\n",
       "      <td>0.169412</td>\n",
       "    </tr>\n",
       "    <tr>\n",
       "      <th>High-Low</th>\n",
       "      <td>0.169412</td>\n",
       "      <td>1.000000</td>\n",
       "    </tr>\n",
       "  </tbody>\n",
       "</table>\n",
       "</div>"
      ],
      "text/plain": [
       "            Open-Close  High-Low\n",
       "Open-Close    1.000000  0.169412\n",
       "High-Low      0.169412  1.000000"
      ]
     },
     "execution_count": 26,
     "metadata": {},
     "output_type": "execute_result"
    }
   ],
   "source": [
    "#Vemos la multicolinealidad con la correlación entre las features\n",
    "features=list(Df.columns[-2:])\n",
    "Df[features].corr()"
   ]
  },
  {
   "cell_type": "code",
   "execution_count": 27,
   "metadata": {},
   "outputs": [
    {
     "name": "stdout",
     "output_type": "stream",
     "text": [
      "            Open-Close  High-Low\n",
      "Date                            \n",
      "2018-03-27    5.412562  7.705838\n",
      "2018-03-28    0.894008  3.945264\n",
      "2018-03-29   -1.972618  5.266808\n",
      "2018-04-02    4.936392  8.220870\n",
      "2018-04-03   -1.846288  4.343650\n",
      "      0\n",
      "1567  1\n",
      "1568 -1\n",
      "1569  1\n",
      "1570  1\n",
      "1571  1\n"
     ]
    }
   ],
   "source": [
    "# Split la muestra entre InSample y OutSample\n",
    "    split_percentage = 0.8\n",
    "    split = int(split_percentage*len(Df))\n",
    "     \n",
    "    # Train data set\n",
    "    X_train = X[:split]\n",
    "    y_train = y[:split]\n",
    "     \n",
    "    # Test data set\n",
    "    X_test = X[split:]\n",
    "    y_test = y[split:]\n",
    "    '''            Open-Close  High-Low\n",
    "Date                            \n",
    "2016-08-01    0.250000  1.239990\n",
    "2016-08-02    1.099991  2.259995\n",
    "2016-08-03   -0.699997  1.119995\n",
    "2016-08-04   -0.100006  2.529999\n",
    "2016-08-05   -1.769989  1.819992\n",
    "      0\n",
    "1151 -1\n",
    "1152  1\n",
    "1153  1\n",
    "1154  1\n",
    "1155 -1'''\n",
    "    \n",
    "    print(X_train.tail())\n",
    "    print(y_train.tail())\n"
   ]
  },
  {
   "cell_type": "code",
   "execution_count": 28,
   "metadata": {},
   "outputs": [],
   "source": [
    "#Creamos el modelo\n",
    "    cls = SVC(gamma='auto').fit(X_train.values, np.ravel(y_train))"
   ]
  },
  {
   "cell_type": "code",
   "execution_count": 31,
   "metadata": {},
   "outputs": [
    {
     "ename": "AxisError",
     "evalue": "axis 1 is out of bounds for array of dimension 1",
     "output_type": "error",
     "traceback": [
      "\u001b[0;31m---------------------------------------------------------------------------\u001b[0m",
      "\u001b[0;31mAxisError\u001b[0m                                 Traceback (most recent call last)",
      "\u001b[0;32m<ipython-input-31-c9c48a2ee8b8>\u001b[0m in \u001b[0;36m<module>\u001b[0;34m\u001b[0m\n\u001b[1;32m      2\u001b[0m \u001b[0mY_pred\u001b[0m \u001b[0;34m=\u001b[0m \u001b[0mcls\u001b[0m\u001b[0;34m.\u001b[0m\u001b[0mpredict\u001b[0m\u001b[0;34m(\u001b[0m\u001b[0mX_test\u001b[0m\u001b[0;34m)\u001b[0m\u001b[0;34m\u001b[0m\u001b[0;34m\u001b[0m\u001b[0m\n\u001b[1;32m      3\u001b[0m \u001b[0;31m# Convert predictions classes to one hot vectors\u001b[0m\u001b[0;34m\u001b[0m\u001b[0;34m\u001b[0m\u001b[0;34m\u001b[0m\u001b[0m\n\u001b[0;32m----> 4\u001b[0;31m \u001b[0mY_pred_classes\u001b[0m \u001b[0;34m=\u001b[0m \u001b[0mnp\u001b[0m\u001b[0;34m.\u001b[0m\u001b[0margmax\u001b[0m\u001b[0;34m(\u001b[0m\u001b[0mY_pred\u001b[0m\u001b[0;34m,\u001b[0m \u001b[0maxis\u001b[0m \u001b[0;34m=\u001b[0m \u001b[0;36m1\u001b[0m\u001b[0;34m)\u001b[0m\u001b[0;34m\u001b[0m\u001b[0;34m\u001b[0m\u001b[0m\n\u001b[0m\u001b[1;32m      5\u001b[0m \u001b[0;31m# Convert validation observations to one hot vectors\u001b[0m\u001b[0;34m\u001b[0m\u001b[0;34m\u001b[0m\u001b[0;34m\u001b[0m\u001b[0m\n\u001b[1;32m      6\u001b[0m \u001b[0mY_true\u001b[0m \u001b[0;34m=\u001b[0m \u001b[0mnp\u001b[0m\u001b[0;34m.\u001b[0m\u001b[0margmax\u001b[0m\u001b[0;34m(\u001b[0m\u001b[0mY_test\u001b[0m\u001b[0;34m,\u001b[0m \u001b[0maxis\u001b[0m \u001b[0;34m=\u001b[0m \u001b[0;36m1\u001b[0m\u001b[0;34m)\u001b[0m\u001b[0;34m\u001b[0m\u001b[0;34m\u001b[0m\u001b[0m\n",
      "\u001b[0;32m/usr/local/lib/python3.6/site-packages/numpy/core/fromnumeric.py\u001b[0m in \u001b[0;36margmax\u001b[0;34m(a, axis, out)\u001b[0m\n\u001b[1;32m   1002\u001b[0m \u001b[0;34m\u001b[0m\u001b[0m\n\u001b[1;32m   1003\u001b[0m     \"\"\"\n\u001b[0;32m-> 1004\u001b[0;31m     \u001b[0;32mreturn\u001b[0m \u001b[0m_wrapfunc\u001b[0m\u001b[0;34m(\u001b[0m\u001b[0ma\u001b[0m\u001b[0;34m,\u001b[0m \u001b[0;34m'argmax'\u001b[0m\u001b[0;34m,\u001b[0m \u001b[0maxis\u001b[0m\u001b[0;34m=\u001b[0m\u001b[0maxis\u001b[0m\u001b[0;34m,\u001b[0m \u001b[0mout\u001b[0m\u001b[0;34m=\u001b[0m\u001b[0mout\u001b[0m\u001b[0;34m)\u001b[0m\u001b[0;34m\u001b[0m\u001b[0;34m\u001b[0m\u001b[0m\n\u001b[0m\u001b[1;32m   1005\u001b[0m \u001b[0;34m\u001b[0m\u001b[0m\n\u001b[1;32m   1006\u001b[0m \u001b[0;34m\u001b[0m\u001b[0m\n",
      "\u001b[0;32m/usr/local/lib/python3.6/site-packages/numpy/core/fromnumeric.py\u001b[0m in \u001b[0;36m_wrapfunc\u001b[0;34m(obj, method, *args, **kwds)\u001b[0m\n\u001b[1;32m     50\u001b[0m \u001b[0;32mdef\u001b[0m \u001b[0m_wrapfunc\u001b[0m\u001b[0;34m(\u001b[0m\u001b[0mobj\u001b[0m\u001b[0;34m,\u001b[0m \u001b[0mmethod\u001b[0m\u001b[0;34m,\u001b[0m \u001b[0;34m*\u001b[0m\u001b[0margs\u001b[0m\u001b[0;34m,\u001b[0m \u001b[0;34m**\u001b[0m\u001b[0mkwds\u001b[0m\u001b[0;34m)\u001b[0m\u001b[0;34m:\u001b[0m\u001b[0;34m\u001b[0m\u001b[0;34m\u001b[0m\u001b[0m\n\u001b[1;32m     51\u001b[0m     \u001b[0;32mtry\u001b[0m\u001b[0;34m:\u001b[0m\u001b[0;34m\u001b[0m\u001b[0;34m\u001b[0m\u001b[0m\n\u001b[0;32m---> 52\u001b[0;31m         \u001b[0;32mreturn\u001b[0m \u001b[0mgetattr\u001b[0m\u001b[0;34m(\u001b[0m\u001b[0mobj\u001b[0m\u001b[0;34m,\u001b[0m \u001b[0mmethod\u001b[0m\u001b[0;34m)\u001b[0m\u001b[0;34m(\u001b[0m\u001b[0;34m*\u001b[0m\u001b[0margs\u001b[0m\u001b[0;34m,\u001b[0m \u001b[0;34m**\u001b[0m\u001b[0mkwds\u001b[0m\u001b[0;34m)\u001b[0m\u001b[0;34m\u001b[0m\u001b[0;34m\u001b[0m\u001b[0m\n\u001b[0m\u001b[1;32m     53\u001b[0m \u001b[0;34m\u001b[0m\u001b[0m\n\u001b[1;32m     54\u001b[0m     \u001b[0;31m# An AttributeError occurs if the object does not have\u001b[0m\u001b[0;34m\u001b[0m\u001b[0;34m\u001b[0m\u001b[0;34m\u001b[0m\u001b[0m\n",
      "\u001b[0;31mAxisError\u001b[0m: axis 1 is out of bounds for array of dimension 1"
     ]
    }
   ],
   "source": [
    "\n",
    "# Predict the values from the validation dataset\n",
    "Y_pred = cls.predict(X_test)\n",
    "# Convert predictions classes to one hot vectors \n",
    "Y_pred_classes = np.argmax(Y_pred, axis = 1) \n",
    "# Convert validation observations to one hot vectors\n",
    "Y_true = np.argmax(Y_test, axis = 1) \n",
    "# compute the confusion matrix\n",
    "confusion_mtx = confusion_matrix(Y_true, Y_pred_classes) \n",
    "# plot the confusion matrix\n",
    "plot_confusion_matrix(confusion_mtx, classes = range(2))"
   ]
  },
  {
   "cell_type": "code",
   "execution_count": null,
   "metadata": {},
   "outputs": [],
   "source": [
    "#aquí vemos el ajuste del modelo\n",
    "    accuracy_train = accuracy_score(y_train, cls.predict(X_train))\n",
    "     \n",
    "    accuracy_test = accuracy_score(y_test, cls.predict(X_test))\n",
    "    print('\\nTrain Accuracy:{: .2f}%'.format(accuracy_train*100))\n",
    "    print('Test Accuracy:{: .2f}%'.format(accuracy_test*100))"
   ]
  },
  {
   "cell_type": "code",
   "execution_count": null,
   "metadata": {},
   "outputs": [],
   "source": [
    "#Realiamos la predicción\n",
    "    Df['Predicted_Signal'] = cls.predict(X)\n",
    "     \n",
    "    # Calculate log returns\n",
    "    Df['Return'] = np.log(Df.Close.shift(-1) / Df.Close)*100\n",
    "    Df['Return1'] = Df.Close.pct_change().shift(-2)*100\n",
    "    \n",
    "    Df['Strategy_Return'] = Df.Return.shift(-1) * Df.Predicted_Signal\n",
    "    Df.Strategy_Return.iloc[split:].cumsum().plot(figsize=(10,5))\n",
    "    Df.Return.iloc[split:].cumsum().plot(figsize=(10,5))\n",
    "    Df.Return1.iloc[split:].cumsum().plot(figsize=(10,5))\n",
    "    plt.legend(loc='upper left')\n",
    "    plt.ylabel(\"Strategy Returns (%)\")\n",
    "    plt.show()\n",
    "\n"
   ]
  },
  {
   "cell_type": "code",
   "execution_count": null,
   "metadata": {},
   "outputs": [],
   "source": [
    "# Calculate log returns\n",
    "    Df['Return'] = Df.Close.pct_change().shift(-2)\n",
    "    Df['Strategy_Return'] = Df.Return * Df.Predicted_Signal\n",
    "    Df.Strategy_Return.iloc[split:].cumsum().plot(figsize=(10,5))\n",
    "    Df.Return.iloc[split:].cumsum().plot(figsize=(10,5))\n",
    "    plt.legend(loc='upper left')\n",
    "    plt.ylabel(\"Strategy Returns (%)\")\n",
    "    plt.show()\n"
   ]
  },
  {
   "cell_type": "code",
   "execution_count": null,
   "metadata": {},
   "outputs": [],
   "source": [
    "#Realiamos la predicción\n",
    "    Df['Predicted_Signal'] = cls.predict(X)\n",
    "     \n",
    "    # Calculate log returns\n",
    "    Df['Return'] = np.log(Df.Close / Df.Close.shift(1))*100\n",
    "    Df['Strategy_Return'] = Df.Return.shift(-2) * Df.Predicted_Signal\n",
    "    Df.Strategy_Return.iloc[split:].cumsum().plot(figsize=(10,5))\n",
    "    Df.Return.iloc[split:].cumsum().plot(figsize=(10,5))\n",
    "    plt.legend(loc='upper left')\n",
    "    plt.ylabel(\"Strategy Returns (%)\")\n",
    "    plt.show()\n",
    "\n"
   ]
  },
  {
   "cell_type": "code",
   "execution_count": null,
   "metadata": {},
   "outputs": [],
   "source": [
    "    Df['signal']=y\n",
    "    Df['Return1'] = np.log(Df.Close / Df.Close.shift(1))\n",
    "    Df['Return2'] = Df.Close.pct_change().shift(-1)\n",
    "    Df['Return3'] = np.log(Df.Close.shift(-1) / Df.Close)\n",
    "\n",
    "    Df[['Return1','Return2','Return3','Predicted_Signal','signal']].tail()\n"
   ]
  },
  {
   "cell_type": "code",
   "execution_count": null,
   "metadata": {},
   "outputs": [],
   "source": []
  },
  {
   "cell_type": "code",
   "execution_count": null,
   "metadata": {},
   "outputs": [],
   "source": []
  },
  {
   "cell_type": "code",
   "execution_count": null,
   "metadata": {},
   "outputs": [],
   "source": []
  },
  {
   "cell_type": "code",
   "execution_count": null,
   "metadata": {},
   "outputs": [],
   "source": []
  },
  {
   "cell_type": "code",
   "execution_count": null,
   "metadata": {},
   "outputs": [],
   "source": []
  },
  {
   "cell_type": "code",
   "execution_count": null,
   "metadata": {},
   "outputs": [],
   "source": []
  }
 ],
 "metadata": {
  "kernelspec": {
   "display_name": "Python 3",
   "language": "python",
   "name": "python3"
  },
  "language_info": {
   "codemirror_mode": {
    "name": "ipython",
    "version": 3
   },
   "file_extension": ".py",
   "mimetype": "text/x-python",
   "name": "python",
   "nbconvert_exporter": "python",
   "pygments_lexer": "ipython3",
   "version": "3.6.8"
  }
 },
 "nbformat": 4,
 "nbformat_minor": 2
}
